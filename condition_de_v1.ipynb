{
 "cells": [
  {
   "cell_type": "code",
   "execution_count": 1,
   "id": "da91e012",
   "metadata": {},
   "outputs": [
    {
     "name": "stdout",
     "output_type": "stream",
     "text": [
      "this is test program\n"
     ]
    }
   ],
   "source": [
    "print(\"this is test program\")"
   ]
  },
  {
   "cell_type": "code",
   "execution_count": 8,
   "id": "965b6340",
   "metadata": {},
   "outputs": [
    {
     "name": "stdout",
     "output_type": "stream",
     "text": [
      " your age is false\n"
     ]
    }
   ],
   "source": [
    "passing_variage=13\n",
    "\n",
    "if passing_variage>20:\n",
    "    print(\" your age is true\")\n",
    "else:\n",
    "    print(\" your age is false\")\n"
   ]
  }
 ],
 "metadata": {
  "kernelspec": {
   "display_name": "Python 3 (ipykernel)",
   "language": "python",
   "name": "python3"
  },
  "language_info": {
   "codemirror_mode": {
    "name": "ipython",
    "version": 3
   },
   "file_extension": ".py",
   "mimetype": "text/x-python",
   "name": "python",
   "nbconvert_exporter": "python",
   "pygments_lexer": "ipython3",
   "version": "3.10.9"
  }
 },
 "nbformat": 4,
 "nbformat_minor": 5
}
